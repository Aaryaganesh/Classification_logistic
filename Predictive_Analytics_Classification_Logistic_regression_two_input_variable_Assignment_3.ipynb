{
  "nbformat": 4,
  "nbformat_minor": 0,
  "metadata": {
    "colab": {
      "provenance": []
    },
    "kernelspec": {
      "name": "python3",
      "display_name": "Python 3"
    },
    "language_info": {
      "name": "python"
    }
  },
  "cells": [
    {
      "cell_type": "markdown",
      "source": [
        "# Question\n",
        "\n",
        "During campus interviews, company XYZ typically evaluates students based on their test scores from the company's assessment, their % of mark, and interview performance. However, moving forward, the company has decided not to interview all students and instead needs to filter candidates before scheduling interviews.\n",
        "\n",
        "The company possesses historical data that includes test scores, CGPA, and selection outcomes for previous candidates. This data will be utilized to predict whether a new candidate, with a specific test score and CGPA, will be selected for an interview or not.\n",
        "\n",
        "Data Set: interviewData.csv"
      ],
      "metadata": {
        "id": "c3B3t5rzc9OG"
      }
    },
    {
      "cell_type": "code",
      "execution_count": 2,
      "metadata": {
        "colab": {
          "base_uri": "https://localhost:8080/",
          "height": 206
        },
        "id": "roEOOdT_XCiT",
        "outputId": "655ec7f9-1822-4315-e9c2-641c96bbc85c"
      },
      "outputs": [
        {
          "output_type": "execute_result",
          "data": {
            "text/plain": [
              "   Exam Mark  test score Selection\n",
              "0  34.623660   78.024693        No\n",
              "1  30.286711   43.894998        No\n",
              "2  35.847409   72.902198        No\n",
              "3  60.182599   86.308552       Yes\n",
              "4  79.032736   75.344376       Yes"
            ],
            "text/html": [
              "\n",
              "  <div id=\"df-393ffb45-8643-4843-9ed9-99653565e07f\" class=\"colab-df-container\">\n",
              "    <div>\n",
              "<style scoped>\n",
              "    .dataframe tbody tr th:only-of-type {\n",
              "        vertical-align: middle;\n",
              "    }\n",
              "\n",
              "    .dataframe tbody tr th {\n",
              "        vertical-align: top;\n",
              "    }\n",
              "\n",
              "    .dataframe thead th {\n",
              "        text-align: right;\n",
              "    }\n",
              "</style>\n",
              "<table border=\"1\" class=\"dataframe\">\n",
              "  <thead>\n",
              "    <tr style=\"text-align: right;\">\n",
              "      <th></th>\n",
              "      <th>Exam Mark</th>\n",
              "      <th>test score</th>\n",
              "      <th>Selection</th>\n",
              "    </tr>\n",
              "  </thead>\n",
              "  <tbody>\n",
              "    <tr>\n",
              "      <th>0</th>\n",
              "      <td>34.623660</td>\n",
              "      <td>78.024693</td>\n",
              "      <td>No</td>\n",
              "    </tr>\n",
              "    <tr>\n",
              "      <th>1</th>\n",
              "      <td>30.286711</td>\n",
              "      <td>43.894998</td>\n",
              "      <td>No</td>\n",
              "    </tr>\n",
              "    <tr>\n",
              "      <th>2</th>\n",
              "      <td>35.847409</td>\n",
              "      <td>72.902198</td>\n",
              "      <td>No</td>\n",
              "    </tr>\n",
              "    <tr>\n",
              "      <th>3</th>\n",
              "      <td>60.182599</td>\n",
              "      <td>86.308552</td>\n",
              "      <td>Yes</td>\n",
              "    </tr>\n",
              "    <tr>\n",
              "      <th>4</th>\n",
              "      <td>79.032736</td>\n",
              "      <td>75.344376</td>\n",
              "      <td>Yes</td>\n",
              "    </tr>\n",
              "  </tbody>\n",
              "</table>\n",
              "</div>\n",
              "    <div class=\"colab-df-buttons\">\n",
              "\n",
              "  <div class=\"colab-df-container\">\n",
              "    <button class=\"colab-df-convert\" onclick=\"convertToInteractive('df-393ffb45-8643-4843-9ed9-99653565e07f')\"\n",
              "            title=\"Convert this dataframe to an interactive table.\"\n",
              "            style=\"display:none;\">\n",
              "\n",
              "  <svg xmlns=\"http://www.w3.org/2000/svg\" height=\"24px\" viewBox=\"0 -960 960 960\">\n",
              "    <path d=\"M120-120v-720h720v720H120Zm60-500h600v-160H180v160Zm220 220h160v-160H400v160Zm0 220h160v-160H400v160ZM180-400h160v-160H180v160Zm440 0h160v-160H620v160ZM180-180h160v-160H180v160Zm440 0h160v-160H620v160Z\"/>\n",
              "  </svg>\n",
              "    </button>\n",
              "\n",
              "  <style>\n",
              "    .colab-df-container {\n",
              "      display:flex;\n",
              "      gap: 12px;\n",
              "    }\n",
              "\n",
              "    .colab-df-convert {\n",
              "      background-color: #E8F0FE;\n",
              "      border: none;\n",
              "      border-radius: 50%;\n",
              "      cursor: pointer;\n",
              "      display: none;\n",
              "      fill: #1967D2;\n",
              "      height: 32px;\n",
              "      padding: 0 0 0 0;\n",
              "      width: 32px;\n",
              "    }\n",
              "\n",
              "    .colab-df-convert:hover {\n",
              "      background-color: #E2EBFA;\n",
              "      box-shadow: 0px 1px 2px rgba(60, 64, 67, 0.3), 0px 1px 3px 1px rgba(60, 64, 67, 0.15);\n",
              "      fill: #174EA6;\n",
              "    }\n",
              "\n",
              "    .colab-df-buttons div {\n",
              "      margin-bottom: 4px;\n",
              "    }\n",
              "\n",
              "    [theme=dark] .colab-df-convert {\n",
              "      background-color: #3B4455;\n",
              "      fill: #D2E3FC;\n",
              "    }\n",
              "\n",
              "    [theme=dark] .colab-df-convert:hover {\n",
              "      background-color: #434B5C;\n",
              "      box-shadow: 0px 1px 3px 1px rgba(0, 0, 0, 0.15);\n",
              "      filter: drop-shadow(0px 1px 2px rgba(0, 0, 0, 0.3));\n",
              "      fill: #FFFFFF;\n",
              "    }\n",
              "  </style>\n",
              "\n",
              "    <script>\n",
              "      const buttonEl =\n",
              "        document.querySelector('#df-393ffb45-8643-4843-9ed9-99653565e07f button.colab-df-convert');\n",
              "      buttonEl.style.display =\n",
              "        google.colab.kernel.accessAllowed ? 'block' : 'none';\n",
              "\n",
              "      async function convertToInteractive(key) {\n",
              "        const element = document.querySelector('#df-393ffb45-8643-4843-9ed9-99653565e07f');\n",
              "        const dataTable =\n",
              "          await google.colab.kernel.invokeFunction('convertToInteractive',\n",
              "                                                    [key], {});\n",
              "        if (!dataTable) return;\n",
              "\n",
              "        const docLinkHtml = 'Like what you see? Visit the ' +\n",
              "          '<a target=\"_blank\" href=https://colab.research.google.com/notebooks/data_table.ipynb>data table notebook</a>'\n",
              "          + ' to learn more about interactive tables.';\n",
              "        element.innerHTML = '';\n",
              "        dataTable['output_type'] = 'display_data';\n",
              "        await google.colab.output.renderOutput(dataTable, element);\n",
              "        const docLink = document.createElement('div');\n",
              "        docLink.innerHTML = docLinkHtml;\n",
              "        element.appendChild(docLink);\n",
              "      }\n",
              "    </script>\n",
              "  </div>\n",
              "\n",
              "\n",
              "<div id=\"df-95c1762f-8c03-457d-bb51-0d5207d7045e\">\n",
              "  <button class=\"colab-df-quickchart\" onclick=\"quickchart('df-95c1762f-8c03-457d-bb51-0d5207d7045e')\"\n",
              "            title=\"Suggest charts\"\n",
              "            style=\"display:none;\">\n",
              "\n",
              "<svg xmlns=\"http://www.w3.org/2000/svg\" height=\"24px\"viewBox=\"0 0 24 24\"\n",
              "     width=\"24px\">\n",
              "    <g>\n",
              "        <path d=\"M19 3H5c-1.1 0-2 .9-2 2v14c0 1.1.9 2 2 2h14c1.1 0 2-.9 2-2V5c0-1.1-.9-2-2-2zM9 17H7v-7h2v7zm4 0h-2V7h2v10zm4 0h-2v-4h2v4z\"/>\n",
              "    </g>\n",
              "</svg>\n",
              "  </button>\n",
              "\n",
              "<style>\n",
              "  .colab-df-quickchart {\n",
              "      --bg-color: #E8F0FE;\n",
              "      --fill-color: #1967D2;\n",
              "      --hover-bg-color: #E2EBFA;\n",
              "      --hover-fill-color: #174EA6;\n",
              "      --disabled-fill-color: #AAA;\n",
              "      --disabled-bg-color: #DDD;\n",
              "  }\n",
              "\n",
              "  [theme=dark] .colab-df-quickchart {\n",
              "      --bg-color: #3B4455;\n",
              "      --fill-color: #D2E3FC;\n",
              "      --hover-bg-color: #434B5C;\n",
              "      --hover-fill-color: #FFFFFF;\n",
              "      --disabled-bg-color: #3B4455;\n",
              "      --disabled-fill-color: #666;\n",
              "  }\n",
              "\n",
              "  .colab-df-quickchart {\n",
              "    background-color: var(--bg-color);\n",
              "    border: none;\n",
              "    border-radius: 50%;\n",
              "    cursor: pointer;\n",
              "    display: none;\n",
              "    fill: var(--fill-color);\n",
              "    height: 32px;\n",
              "    padding: 0;\n",
              "    width: 32px;\n",
              "  }\n",
              "\n",
              "  .colab-df-quickchart:hover {\n",
              "    background-color: var(--hover-bg-color);\n",
              "    box-shadow: 0 1px 2px rgba(60, 64, 67, 0.3), 0 1px 3px 1px rgba(60, 64, 67, 0.15);\n",
              "    fill: var(--button-hover-fill-color);\n",
              "  }\n",
              "\n",
              "  .colab-df-quickchart-complete:disabled,\n",
              "  .colab-df-quickchart-complete:disabled:hover {\n",
              "    background-color: var(--disabled-bg-color);\n",
              "    fill: var(--disabled-fill-color);\n",
              "    box-shadow: none;\n",
              "  }\n",
              "\n",
              "  .colab-df-spinner {\n",
              "    border: 2px solid var(--fill-color);\n",
              "    border-color: transparent;\n",
              "    border-bottom-color: var(--fill-color);\n",
              "    animation:\n",
              "      spin 1s steps(1) infinite;\n",
              "  }\n",
              "\n",
              "  @keyframes spin {\n",
              "    0% {\n",
              "      border-color: transparent;\n",
              "      border-bottom-color: var(--fill-color);\n",
              "      border-left-color: var(--fill-color);\n",
              "    }\n",
              "    20% {\n",
              "      border-color: transparent;\n",
              "      border-left-color: var(--fill-color);\n",
              "      border-top-color: var(--fill-color);\n",
              "    }\n",
              "    30% {\n",
              "      border-color: transparent;\n",
              "      border-left-color: var(--fill-color);\n",
              "      border-top-color: var(--fill-color);\n",
              "      border-right-color: var(--fill-color);\n",
              "    }\n",
              "    40% {\n",
              "      border-color: transparent;\n",
              "      border-right-color: var(--fill-color);\n",
              "      border-top-color: var(--fill-color);\n",
              "    }\n",
              "    60% {\n",
              "      border-color: transparent;\n",
              "      border-right-color: var(--fill-color);\n",
              "    }\n",
              "    80% {\n",
              "      border-color: transparent;\n",
              "      border-right-color: var(--fill-color);\n",
              "      border-bottom-color: var(--fill-color);\n",
              "    }\n",
              "    90% {\n",
              "      border-color: transparent;\n",
              "      border-bottom-color: var(--fill-color);\n",
              "    }\n",
              "  }\n",
              "</style>\n",
              "\n",
              "  <script>\n",
              "    async function quickchart(key) {\n",
              "      const quickchartButtonEl =\n",
              "        document.querySelector('#' + key + ' button');\n",
              "      quickchartButtonEl.disabled = true;  // To prevent multiple clicks.\n",
              "      quickchartButtonEl.classList.add('colab-df-spinner');\n",
              "      try {\n",
              "        const charts = await google.colab.kernel.invokeFunction(\n",
              "            'suggestCharts', [key], {});\n",
              "      } catch (error) {\n",
              "        console.error('Error during call to suggestCharts:', error);\n",
              "      }\n",
              "      quickchartButtonEl.classList.remove('colab-df-spinner');\n",
              "      quickchartButtonEl.classList.add('colab-df-quickchart-complete');\n",
              "    }\n",
              "    (() => {\n",
              "      let quickchartButtonEl =\n",
              "        document.querySelector('#df-95c1762f-8c03-457d-bb51-0d5207d7045e button');\n",
              "      quickchartButtonEl.style.display =\n",
              "        google.colab.kernel.accessAllowed ? 'block' : 'none';\n",
              "    })();\n",
              "  </script>\n",
              "</div>\n",
              "    </div>\n",
              "  </div>\n"
            ],
            "application/vnd.google.colaboratory.intrinsic+json": {
              "type": "dataframe",
              "variable_name": "df",
              "summary": "{\n  \"name\": \"df\",\n  \"rows\": 100,\n  \"fields\": [\n    {\n      \"column\": \"Exam Mark\",\n      \"properties\": {\n        \"dtype\": \"number\",\n        \"std\": 19.458222275425072,\n        \"min\": 30.05882244669796,\n        \"max\": 99.82785779692128,\n        \"num_unique_values\": 100,\n        \"samples\": [\n          57.23870631569862,\n          34.52451385320009,\n          32.72283304060323\n        ],\n        \"semantic_type\": \"\",\n        \"description\": \"\"\n      }\n    },\n    {\n      \"column\": \"test score\",\n      \"properties\": {\n        \"dtype\": \"number\",\n        \"std\": 18.582783039307344,\n        \"min\": 30.60326323428011,\n        \"max\": 98.86943574220612,\n        \"num_unique_values\": 100,\n        \"samples\": [\n          59.51428198012956,\n          60.39634245837173,\n          43.30717306430063\n        ],\n        \"semantic_type\": \"\",\n        \"description\": \"\"\n      }\n    },\n    {\n      \"column\": \"Selection\",\n      \"properties\": {\n        \"dtype\": \"category\",\n        \"num_unique_values\": 2,\n        \"samples\": [\n          \"Yes\",\n          \"No\"\n        ],\n        \"semantic_type\": \"\",\n        \"description\": \"\"\n      }\n    }\n  ]\n}"
            }
          },
          "metadata": {},
          "execution_count": 2
        }
      ],
      "source": [
        "import pandas as pd\n",
        "import numpy as np\n",
        "import matplotlib.pyplot as plt\n",
        "\n",
        "df = pd.read_csv('interviewData.csv',header=None)\n",
        "df.columns = ['Exam Mark','test score','Selection']\n",
        "df.head()"
      ]
    },
    {
      "cell_type": "markdown",
      "source": [
        "## Exploratory data analysis\n"
      ],
      "metadata": {
        "id": "01iK500VmXtH"
      }
    },
    {
      "cell_type": "markdown",
      "source": [
        "**Answer the following:**\n",
        "* What is your target variable?\n",
        "> Selection\n",
        "* Do you need to encode the target variable (Yes/No)?\n",
        "> Yes\n",
        "* If yes, briefly explain why you need to encode the target variable.\n",
        "> Computer understands only numerical format, so we have to convert the categorical variable into numerical /binary format.\n",
        "* Consider the encoding methods: One-hot encoding, Binary encoding, and Label Encoding. Which one do you apply in this case?\n",
        "> Label encoding\n",
        "* Explain why you have selected the above encoding method.\n",
        "> Since there are only two categories it is more suitable to use label encoding as it can assign a unique numerical value to each catgory. Other two encoding methods are more suitable for multiple categories.\n",
        "\n",
        "Read the following article\n",
        "\n",
        "https://medium.com/@swayampatil7918/exploring-different-encoding-techniques-for-machine-learning-models-b762e3b546db"
      ],
      "metadata": {
        "id": "-GCJnRf7Chaz"
      }
    },
    {
      "cell_type": "code",
      "source": [
        "# Create a new dataset by apply the encoding  method selected above on the dataset\n",
        "\n",
        "# Read this to implement this part\n",
        "#  https://scikit-learn.org/stable/modules/classes.html#module-sklearn.preprocessing\n",
        "\n",
        "from sklearn.preprocessing import LabelEncoder\n",
        "\n",
        "# Initialize LabelEncoder\n",
        "label_encoder = LabelEncoder()\n",
        "\n",
        "# Transform the target variable\n",
        "df['Selection'] = label_encoder.fit_transform(df['Selection'])\n",
        "\n",
        "# Display the transformed DataFrame\n",
        "df.head()"
      ],
      "metadata": {
        "colab": {
          "base_uri": "https://localhost:8080/",
          "height": 206
        },
        "id": "AcBqbrVKCpi8",
        "outputId": "88bd4984-ac30-4ab0-efaa-1bef67dbdc90"
      },
      "execution_count": 3,
      "outputs": [
        {
          "output_type": "execute_result",
          "data": {
            "text/plain": [
              "   Exam Mark  test score  Selection\n",
              "0  34.623660   78.024693          0\n",
              "1  30.286711   43.894998          0\n",
              "2  35.847409   72.902198          0\n",
              "3  60.182599   86.308552          1\n",
              "4  79.032736   75.344376          1"
            ],
            "text/html": [
              "\n",
              "  <div id=\"df-797d58f6-4319-4778-aede-f5a5351f0386\" class=\"colab-df-container\">\n",
              "    <div>\n",
              "<style scoped>\n",
              "    .dataframe tbody tr th:only-of-type {\n",
              "        vertical-align: middle;\n",
              "    }\n",
              "\n",
              "    .dataframe tbody tr th {\n",
              "        vertical-align: top;\n",
              "    }\n",
              "\n",
              "    .dataframe thead th {\n",
              "        text-align: right;\n",
              "    }\n",
              "</style>\n",
              "<table border=\"1\" class=\"dataframe\">\n",
              "  <thead>\n",
              "    <tr style=\"text-align: right;\">\n",
              "      <th></th>\n",
              "      <th>Exam Mark</th>\n",
              "      <th>test score</th>\n",
              "      <th>Selection</th>\n",
              "    </tr>\n",
              "  </thead>\n",
              "  <tbody>\n",
              "    <tr>\n",
              "      <th>0</th>\n",
              "      <td>34.623660</td>\n",
              "      <td>78.024693</td>\n",
              "      <td>0</td>\n",
              "    </tr>\n",
              "    <tr>\n",
              "      <th>1</th>\n",
              "      <td>30.286711</td>\n",
              "      <td>43.894998</td>\n",
              "      <td>0</td>\n",
              "    </tr>\n",
              "    <tr>\n",
              "      <th>2</th>\n",
              "      <td>35.847409</td>\n",
              "      <td>72.902198</td>\n",
              "      <td>0</td>\n",
              "    </tr>\n",
              "    <tr>\n",
              "      <th>3</th>\n",
              "      <td>60.182599</td>\n",
              "      <td>86.308552</td>\n",
              "      <td>1</td>\n",
              "    </tr>\n",
              "    <tr>\n",
              "      <th>4</th>\n",
              "      <td>79.032736</td>\n",
              "      <td>75.344376</td>\n",
              "      <td>1</td>\n",
              "    </tr>\n",
              "  </tbody>\n",
              "</table>\n",
              "</div>\n",
              "    <div class=\"colab-df-buttons\">\n",
              "\n",
              "  <div class=\"colab-df-container\">\n",
              "    <button class=\"colab-df-convert\" onclick=\"convertToInteractive('df-797d58f6-4319-4778-aede-f5a5351f0386')\"\n",
              "            title=\"Convert this dataframe to an interactive table.\"\n",
              "            style=\"display:none;\">\n",
              "\n",
              "  <svg xmlns=\"http://www.w3.org/2000/svg\" height=\"24px\" viewBox=\"0 -960 960 960\">\n",
              "    <path d=\"M120-120v-720h720v720H120Zm60-500h600v-160H180v160Zm220 220h160v-160H400v160Zm0 220h160v-160H400v160ZM180-400h160v-160H180v160Zm440 0h160v-160H620v160ZM180-180h160v-160H180v160Zm440 0h160v-160H620v160Z\"/>\n",
              "  </svg>\n",
              "    </button>\n",
              "\n",
              "  <style>\n",
              "    .colab-df-container {\n",
              "      display:flex;\n",
              "      gap: 12px;\n",
              "    }\n",
              "\n",
              "    .colab-df-convert {\n",
              "      background-color: #E8F0FE;\n",
              "      border: none;\n",
              "      border-radius: 50%;\n",
              "      cursor: pointer;\n",
              "      display: none;\n",
              "      fill: #1967D2;\n",
              "      height: 32px;\n",
              "      padding: 0 0 0 0;\n",
              "      width: 32px;\n",
              "    }\n",
              "\n",
              "    .colab-df-convert:hover {\n",
              "      background-color: #E2EBFA;\n",
              "      box-shadow: 0px 1px 2px rgba(60, 64, 67, 0.3), 0px 1px 3px 1px rgba(60, 64, 67, 0.15);\n",
              "      fill: #174EA6;\n",
              "    }\n",
              "\n",
              "    .colab-df-buttons div {\n",
              "      margin-bottom: 4px;\n",
              "    }\n",
              "\n",
              "    [theme=dark] .colab-df-convert {\n",
              "      background-color: #3B4455;\n",
              "      fill: #D2E3FC;\n",
              "    }\n",
              "\n",
              "    [theme=dark] .colab-df-convert:hover {\n",
              "      background-color: #434B5C;\n",
              "      box-shadow: 0px 1px 3px 1px rgba(0, 0, 0, 0.15);\n",
              "      filter: drop-shadow(0px 1px 2px rgba(0, 0, 0, 0.3));\n",
              "      fill: #FFFFFF;\n",
              "    }\n",
              "  </style>\n",
              "\n",
              "    <script>\n",
              "      const buttonEl =\n",
              "        document.querySelector('#df-797d58f6-4319-4778-aede-f5a5351f0386 button.colab-df-convert');\n",
              "      buttonEl.style.display =\n",
              "        google.colab.kernel.accessAllowed ? 'block' : 'none';\n",
              "\n",
              "      async function convertToInteractive(key) {\n",
              "        const element = document.querySelector('#df-797d58f6-4319-4778-aede-f5a5351f0386');\n",
              "        const dataTable =\n",
              "          await google.colab.kernel.invokeFunction('convertToInteractive',\n",
              "                                                    [key], {});\n",
              "        if (!dataTable) return;\n",
              "\n",
              "        const docLinkHtml = 'Like what you see? Visit the ' +\n",
              "          '<a target=\"_blank\" href=https://colab.research.google.com/notebooks/data_table.ipynb>data table notebook</a>'\n",
              "          + ' to learn more about interactive tables.';\n",
              "        element.innerHTML = '';\n",
              "        dataTable['output_type'] = 'display_data';\n",
              "        await google.colab.output.renderOutput(dataTable, element);\n",
              "        const docLink = document.createElement('div');\n",
              "        docLink.innerHTML = docLinkHtml;\n",
              "        element.appendChild(docLink);\n",
              "      }\n",
              "    </script>\n",
              "  </div>\n",
              "\n",
              "\n",
              "<div id=\"df-a78f0928-bef6-4509-b283-eca7db24f548\">\n",
              "  <button class=\"colab-df-quickchart\" onclick=\"quickchart('df-a78f0928-bef6-4509-b283-eca7db24f548')\"\n",
              "            title=\"Suggest charts\"\n",
              "            style=\"display:none;\">\n",
              "\n",
              "<svg xmlns=\"http://www.w3.org/2000/svg\" height=\"24px\"viewBox=\"0 0 24 24\"\n",
              "     width=\"24px\">\n",
              "    <g>\n",
              "        <path d=\"M19 3H5c-1.1 0-2 .9-2 2v14c0 1.1.9 2 2 2h14c1.1 0 2-.9 2-2V5c0-1.1-.9-2-2-2zM9 17H7v-7h2v7zm4 0h-2V7h2v10zm4 0h-2v-4h2v4z\"/>\n",
              "    </g>\n",
              "</svg>\n",
              "  </button>\n",
              "\n",
              "<style>\n",
              "  .colab-df-quickchart {\n",
              "      --bg-color: #E8F0FE;\n",
              "      --fill-color: #1967D2;\n",
              "      --hover-bg-color: #E2EBFA;\n",
              "      --hover-fill-color: #174EA6;\n",
              "      --disabled-fill-color: #AAA;\n",
              "      --disabled-bg-color: #DDD;\n",
              "  }\n",
              "\n",
              "  [theme=dark] .colab-df-quickchart {\n",
              "      --bg-color: #3B4455;\n",
              "      --fill-color: #D2E3FC;\n",
              "      --hover-bg-color: #434B5C;\n",
              "      --hover-fill-color: #FFFFFF;\n",
              "      --disabled-bg-color: #3B4455;\n",
              "      --disabled-fill-color: #666;\n",
              "  }\n",
              "\n",
              "  .colab-df-quickchart {\n",
              "    background-color: var(--bg-color);\n",
              "    border: none;\n",
              "    border-radius: 50%;\n",
              "    cursor: pointer;\n",
              "    display: none;\n",
              "    fill: var(--fill-color);\n",
              "    height: 32px;\n",
              "    padding: 0;\n",
              "    width: 32px;\n",
              "  }\n",
              "\n",
              "  .colab-df-quickchart:hover {\n",
              "    background-color: var(--hover-bg-color);\n",
              "    box-shadow: 0 1px 2px rgba(60, 64, 67, 0.3), 0 1px 3px 1px rgba(60, 64, 67, 0.15);\n",
              "    fill: var(--button-hover-fill-color);\n",
              "  }\n",
              "\n",
              "  .colab-df-quickchart-complete:disabled,\n",
              "  .colab-df-quickchart-complete:disabled:hover {\n",
              "    background-color: var(--disabled-bg-color);\n",
              "    fill: var(--disabled-fill-color);\n",
              "    box-shadow: none;\n",
              "  }\n",
              "\n",
              "  .colab-df-spinner {\n",
              "    border: 2px solid var(--fill-color);\n",
              "    border-color: transparent;\n",
              "    border-bottom-color: var(--fill-color);\n",
              "    animation:\n",
              "      spin 1s steps(1) infinite;\n",
              "  }\n",
              "\n",
              "  @keyframes spin {\n",
              "    0% {\n",
              "      border-color: transparent;\n",
              "      border-bottom-color: var(--fill-color);\n",
              "      border-left-color: var(--fill-color);\n",
              "    }\n",
              "    20% {\n",
              "      border-color: transparent;\n",
              "      border-left-color: var(--fill-color);\n",
              "      border-top-color: var(--fill-color);\n",
              "    }\n",
              "    30% {\n",
              "      border-color: transparent;\n",
              "      border-left-color: var(--fill-color);\n",
              "      border-top-color: var(--fill-color);\n",
              "      border-right-color: var(--fill-color);\n",
              "    }\n",
              "    40% {\n",
              "      border-color: transparent;\n",
              "      border-right-color: var(--fill-color);\n",
              "      border-top-color: var(--fill-color);\n",
              "    }\n",
              "    60% {\n",
              "      border-color: transparent;\n",
              "      border-right-color: var(--fill-color);\n",
              "    }\n",
              "    80% {\n",
              "      border-color: transparent;\n",
              "      border-right-color: var(--fill-color);\n",
              "      border-bottom-color: var(--fill-color);\n",
              "    }\n",
              "    90% {\n",
              "      border-color: transparent;\n",
              "      border-bottom-color: var(--fill-color);\n",
              "    }\n",
              "  }\n",
              "</style>\n",
              "\n",
              "  <script>\n",
              "    async function quickchart(key) {\n",
              "      const quickchartButtonEl =\n",
              "        document.querySelector('#' + key + ' button');\n",
              "      quickchartButtonEl.disabled = true;  // To prevent multiple clicks.\n",
              "      quickchartButtonEl.classList.add('colab-df-spinner');\n",
              "      try {\n",
              "        const charts = await google.colab.kernel.invokeFunction(\n",
              "            'suggestCharts', [key], {});\n",
              "      } catch (error) {\n",
              "        console.error('Error during call to suggestCharts:', error);\n",
              "      }\n",
              "      quickchartButtonEl.classList.remove('colab-df-spinner');\n",
              "      quickchartButtonEl.classList.add('colab-df-quickchart-complete');\n",
              "    }\n",
              "    (() => {\n",
              "      let quickchartButtonEl =\n",
              "        document.querySelector('#df-a78f0928-bef6-4509-b283-eca7db24f548 button');\n",
              "      quickchartButtonEl.style.display =\n",
              "        google.colab.kernel.accessAllowed ? 'block' : 'none';\n",
              "    })();\n",
              "  </script>\n",
              "</div>\n",
              "    </div>\n",
              "  </div>\n"
            ],
            "application/vnd.google.colaboratory.intrinsic+json": {
              "type": "dataframe",
              "variable_name": "df",
              "summary": "{\n  \"name\": \"df\",\n  \"rows\": 100,\n  \"fields\": [\n    {\n      \"column\": \"Exam Mark\",\n      \"properties\": {\n        \"dtype\": \"number\",\n        \"std\": 19.458222275425072,\n        \"min\": 30.05882244669796,\n        \"max\": 99.82785779692128,\n        \"num_unique_values\": 100,\n        \"samples\": [\n          57.23870631569862,\n          34.52451385320009,\n          32.72283304060323\n        ],\n        \"semantic_type\": \"\",\n        \"description\": \"\"\n      }\n    },\n    {\n      \"column\": \"test score\",\n      \"properties\": {\n        \"dtype\": \"number\",\n        \"std\": 18.582783039307344,\n        \"min\": 30.60326323428011,\n        \"max\": 98.86943574220612,\n        \"num_unique_values\": 100,\n        \"samples\": [\n          59.51428198012956,\n          60.39634245837173,\n          43.30717306430063\n        ],\n        \"semantic_type\": \"\",\n        \"description\": \"\"\n      }\n    },\n    {\n      \"column\": \"Selection\",\n      \"properties\": {\n        \"dtype\": \"number\",\n        \"std\": 0,\n        \"min\": 0,\n        \"max\": 1,\n        \"num_unique_values\": 2,\n        \"samples\": [\n          1,\n          0\n        ],\n        \"semantic_type\": \"\",\n        \"description\": \"\"\n      }\n    }\n  ]\n}"
            }
          },
          "metadata": {},
          "execution_count": 3
        }
      ]
    },
    {
      "cell_type": "code",
      "source": [
        "# Wrie a code to visualize your data\n",
        "# See https://seaborn.pydata.org/generated/seaborn.scatterplot.html\n",
        "\n",
        "import seaborn as sns\n",
        "\n",
        "# Scatter plot\n",
        "sns.scatterplot(data=df, x='Exam Mark', y='test score', hue='Selection')\n",
        "\n",
        "# Display the plot\n",
        "plt.show()"
      ],
      "metadata": {
        "colab": {
          "base_uri": "https://localhost:8080/",
          "height": 449
        },
        "id": "QnZS80GHY09c",
        "outputId": "d8224e9e-10db-4dce-cae3-329d53695055"
      },
      "execution_count": 4,
      "outputs": [
        {
          "output_type": "display_data",
          "data": {
            "text/plain": [
              "<Figure size 640x480 with 1 Axes>"
            ],
            "image/png": "[encoded data removed]"
          },
          "metadata": {}
        }
      ]
    },
    {
      "cell_type": "markdown",
      "source": [
        "## Logistic Regression Model\n",
        "\n",
        "logistic regression model applies the sigmoid to the familiar linear regression model as shown below:\n",
        "\n",
        "$$ \\hat y_{\\mathbf{w},b}(\\mathbf{x}^{(i)}) = g(\\mathbf{w} \\cdot \\mathbf{x}^{(i)} + b ) $$\n",
        "\n",
        "  where\n",
        "\n",
        "  $$g(z) = \\frac{1}{1+e^{-z}}$$\n",
        "\n",
        "That is\n",
        "$$\\hat y_{\\mathbf{w},b}(\\mathbf{x}^{(i)}) = \\frac{1}{1+e^{-(\\mathbf{w} \\cdot \\mathbf{x}^{(i)} + b )}}$$"
      ],
      "metadata": {
        "id": "qbX_C2GMg0a6"
      }
    },
    {
      "cell_type": "code",
      "source": [
        "# Write a function 'predict' to compute the logistic Regression model\n",
        "\n",
        "import numpy as np\n",
        "\n",
        "def sigmoid(z):\n",
        "\n",
        "    return 1 / (1 + np.exp(-z))\n",
        "\n",
        "def predict(w, b, x):\n",
        "\n",
        "    z = np.dot(x, w) + b\n",
        "    return sigmoid(z)\n"
      ],
      "metadata": {
        "id": "--1_CczfgCi5"
      },
      "execution_count": 5,
      "outputs": []
    },
    {
      "cell_type": "markdown",
      "source": [
        "### Answer the following\n",
        "\n",
        "\n",
        "* Can you use mean squared error as the cost function (Yes/No)?\n",
        "> No\n",
        "* Explain why you said yes or no to the above questions.\n",
        "> MSE deals with average squared distances between continuous values, but here the target variable is categorical not continuous."
      ],
      "metadata": {
        "id": "iI9R7eivkXg4"
      }
    },
    {
      "cell_type": "markdown",
      "source": [
        "### Log Loss/ Sigmoid Cross Entropy for Logistic regression\n",
        "\n",
        "     \n"
      ],
      "metadata": {
        "id": "FLKSX86XkusP"
      }
    },
    {
      "cell_type": "markdown",
      "source": [
        "$$ loss(\\hat y_{\\mathbf{w},b}(\\mathbf{x}^{(i)}), y^{(i)}) = (-y^{(i)} \\log\\left(\\hat y_{\\mathbf{w},b}\\left( \\mathbf{x}^{(i)} \\right) \\right) - \\left( 1 - y^{(i)}\\right) \\log \\left( 1 - \\hat y_{\\mathbf{w},b}\\left( \\mathbf{x}^{(i)} \\right) \\right) $$"
      ],
      "metadata": {
        "id": "sOwctTQJlV7-"
      }
    },
    {
      "cell_type": "markdown",
      "source": [
        "### Cost function\n"
      ],
      "metadata": {
        "id": "RCfF0UxilNqZ"
      }
    },
    {
      "cell_type": "markdown",
      "source": [
        "$$ J(\\mathbf{w},b) = \\frac{1}{m} \\sum_{i=0}^{m-1} \\left[ loss(\\hat y_{\\mathbf{w},b}(\\mathbf{x}^{(i)}), y^{(i)}) \\right]$$"
      ],
      "metadata": {
        "id": "llzH4Ji1mbUc"
      }
    },
    {
      "cell_type": "markdown",
      "source": [
        "### Answer the following\n",
        "\n",
        "\n",
        "* What is a loss function?\n",
        "> It is a measure of how well a machine learning model's predictions match the actual target values in the training data\n",
        "* What is a cost function?\n",
        "> It is the overall performance of the model. It refers to any function that quantifies the cost associated with a particular set of parameters in an optimization problem\n",
        "* What is the distinction between them?\n",
        "> The loss function measures the error or discrepancy between the model's predictions and the actual target values while the cost function, on the other hand, typically refers to a broader concept that encompasses the loss function along with other components such as regularization terms."
      ],
      "metadata": {
        "id": "ITvwBBAOlmeJ"
      }
    },
    {
      "cell_type": "markdown",
      "source": [
        "### Derivative of the cost function with respect to weights"
      ],
      "metadata": {
        "id": "H2cz2kAUnAvv"
      }
    },
    {
      "cell_type": "markdown",
      "source": [
        "Type here the formulas to compute the derivatives of the const function with respect to $w_1$, $w_2$ and b"
      ],
      "metadata": {
        "id": "AZuBwEDHnHh9"
      }
    },
    {
      "cell_type": "code",
      "source": [
        "# write a function to estimate the derivatives of the cost function\n",
        "\n",
        "def compute_cost(w, b, x, y):\n",
        "\n",
        "    m = len(y)\n",
        "    predictions = predict(w, b, x)\n",
        "    cost = -1/m * np.sum(y * np.log(predictions) + (1 - y) * np.log(1 - predictions))\n",
        "    return cost\n",
        "\n",
        "\n",
        "def compute_gradient_wb(w, b, x, y):\n",
        "\n",
        "    m = len(y)\n",
        "    predictions = predict(w, b, x)\n",
        "    dz = predictions - y\n",
        "    dw = 1/m * np.dot(x.T, dz)\n",
        "    db = 1/m * np.sum(dz)\n",
        "    return dw, db"
      ],
      "metadata": {
        "id": "AlGq3F_Une2i"
      },
      "execution_count": 6,
      "outputs": []
    },
    {
      "cell_type": "markdown",
      "source": [
        "### Gradient Descent Algorithm"
      ],
      "metadata": {
        "id": "eXGKItwDnuHw"
      }
    },
    {
      "cell_type": "markdown",
      "source": [
        "$$\\begin{align*}\n",
        "&\\text{repeat until convergence:} \\; \\lbrace \\\\\n",
        "&  \\; \\; \\;w_j = w_j -  \\alpha \\frac{\\partial J(\\mathbf{w},b)}{\\partial w_j}   \\; & \\text{for j := 0..n-1} \\\\\n",
        "&  \\; \\; \\;  \\; \\;b = b -  \\alpha \\frac{\\partial J(\\mathbf{w},b)}{\\partial b} \\\\\n",
        "&\\rbrace\n",
        "\\end{align*}$$"
      ],
      "metadata": {
        "id": "x6XMgkr3nt0b"
      }
    },
    {
      "cell_type": "code",
      "source": [
        "# Write a function to perform the gradient decent\n",
        "\n",
        "def gradient_descent(w, b, X_train, X_test, y_train, y_test, alpha, num_iter):\n",
        "\n",
        "    train_costs = []\n",
        "    test_costs = []\n",
        "    for i in range(num_iter):\n",
        "        # Compute gradients\n",
        "        dw, db = compute_gradient_wb(w, b, X_train, y_train)\n",
        "\n",
        "        # Update weights and bias\n",
        "        w -= alpha * dw\n",
        "        b -= alpha * db\n",
        "\n",
        "        # Compute training and testing costs and append to lists\n",
        "        train_cost = compute_cost(w, b, X_train, y_train)\n",
        "        test_cost = compute_cost(w, b, X_test, y_test)\n",
        "        train_costs.append(train_cost)\n",
        "        test_costs.append(test_cost)\n",
        "\n",
        "        # Print cost every 100 iterations\n",
        "        if i % 100 == 0:\n",
        "            print(f\"Iteration {i}: Training Cost = {train_cost}, Testing Cost = {test_cost}\")\n",
        "\n",
        "    return w, b, train_costs, test_costs"
      ],
      "metadata": {
        "id": "sA17QN7bkuAD"
      },
      "execution_count": 7,
      "outputs": []
    },
    {
      "cell_type": "markdown",
      "source": [
        "## Model Training"
      ],
      "metadata": {
        "id": "i7mwC8TwoLn7"
      }
    },
    {
      "cell_type": "code",
      "source": [
        "# Write the code to train the model\n",
        "\n",
        "# Split the data into train and test datasets using\n",
        "# see https://scikit-learn.org/stable/modules/generated/sklearn.model_selection.train_test_split.html\n",
        "from sklearn.model_selection import train_test_split\n",
        "\n",
        "\n",
        "X = df.iloc[:, :-1].values\n",
        "y = df.iloc[:, -1].values\n",
        "\n",
        "X_train, X_test, y_train, y_test = train_test_split(X, y, test_size=0.2, random_state=42)\n",
        "\n",
        "np.random.seed(1)\n",
        "w_ini = np.random.rand(2)\n",
        "b_ini = -9\n",
        "\n",
        "alpha = 0.001\n",
        "\n",
        "num_iter = 1000\n",
        "\n",
        "w_opt, b_opt, train_costs, test_costs = gradient_descent(w_ini, b_ini, X_train, X_test, y_train, y_test, alpha, num_iter)\n",
        "\n",
        "print(f\"Final parameters: w:{w_opt}, b:{b_opt}\")\n",
        "\n",
        "\n",
        "w,b,J_train,J_test = gradient_descent(w_ini,b_ini,X_train, X_test, y_train, y_test,alpha,num_iter)\n",
        "print(f\"Final parameters: w:{w}, b:{b}\")"
      ],
      "metadata": {
        "id": "Yzc-FShlkK4n",
        "colab": {
          "base_uri": "https://localhost:8080/"
        },
        "outputId": "bc77cba9-8483-4ac0-b47a-2308bbe37bf6"
      },
      "execution_count": 8,
      "outputs": [
        {
          "output_type": "stream",
          "name": "stdout",
          "text": [
            "Iteration 0: Training Cost = nan, Testing Cost = nan\n",
            "Iteration 100: Training Cost = 0.27434253660515234, Testing Cost = 0.3472287790440197\n",
            "Iteration 200: Training Cost = 0.27418349111847296, Testing Cost = 0.35183883507712005\n",
            "Iteration 300: Training Cost = 0.2741530354771521, Testing Cost = 0.35182732144615697\n",
            "Iteration 400: Training Cost = 0.274122597007069, Testing Cost = 0.35181086356281105\n",
            "Iteration 500: Training Cost = 0.2740921755516155, Testing Cost = 0.3517944132491621\n",
            "Iteration 600: Training Cost = 0.27406177109608615, Testing Cost = 0.3517779757140786\n",
            "Iteration 700: Training Cost = 0.27403138362579305, Testing Cost = 0.35176155095076145\n",
            "Iteration 800: Training Cost = 0.27400101312606523, Testing Cost = 0.3517451389469256\n",
            "Iteration 900: Training Cost = 0.2739706595822486, Testing Cost = 0.3517287396902949\n",
            "Final parameters: w:[0.08239114 0.06566054], b:-9.026491511598241\n",
            "Iteration 0: Training Cost = 0.27440326876666343, Testing Cost = 0.3521693412670581\n",
            "Iteration 100: Training Cost = 0.27437204443506397, Testing Cost = 0.3519459235778617\n",
            "Iteration 200: Training Cost = 0.2743414833890953, Testing Cost = 0.35192933164493967\n",
            "Iteration 300: Training Cost = 0.27431093946383356, Testing Cost = 0.35191278915179885\n",
            "Iteration 400: Training Cost = 0.2742804126444421, Testing Cost = 0.3518962595699619\n",
            "Iteration 500: Training Cost = 0.2742499029161092, Testing Cost = 0.35187974284862117\n",
            "Iteration 600: Training Cost = 0.2742194102640405, Testing Cost = 0.3518632389753348\n",
            "Iteration 700: Training Cost = 0.27418893467345873, Testing Cost = 0.351846747937717\n",
            "Iteration 800: Training Cost = 0.2741584761296038, Testing Cost = 0.3518302697233978\n",
            "Iteration 900: Training Cost = 0.27412803461773355, Testing Cost = 0.35181380432002185\n",
            "Final parameters: w:[0.08231639 0.06559411], b:-9.017466845912745\n"
          ]
        },
        {
          "output_type": "stream",
          "name": "stderr",
          "text": [
            "<ipython-input-6-2a4bee311ebb>:7: RuntimeWarning: divide by zero encountered in log\n",
            "  cost = -1/m * np.sum(y * np.log(predictions) + (1 - y) * np.log(1 - predictions))\n",
            "<ipython-input-6-2a4bee311ebb>:7: RuntimeWarning: invalid value encountered in multiply\n",
            "  cost = -1/m * np.sum(y * np.log(predictions) + (1 - y) * np.log(1 - predictions))\n"
          ]
        }
      ]
    },
    {
      "cell_type": "code",
      "source": [
        "# Plot the train and test loss in one plot\n",
        "import matplotlib.pyplot as plt\n",
        "\n",
        "# Plot the train and test loss\n",
        "plt.plot(range(num_iter), train_costs, label='Train Loss')\n",
        "plt.plot(range(num_iter), test_costs, label='Test Loss')\n",
        "plt.xlabel('Iterations')\n",
        "plt.ylabel('Loss')\n",
        "plt.title('Train and Test Loss')\n",
        "plt.legend()\n",
        "plt.show()"
      ],
      "metadata": {
        "id": "JwQvMVrhqs8K",
        "colab": {
          "base_uri": "https://localhost:8080/",
          "height": 472
        },
        "outputId": "87035c93-3dd8-4f9d-a627-5b802ae86c22"
      },
      "execution_count": 9,
      "outputs": [
        {
          "output_type": "display_data",
          "data": {
            "text/plain": [
              "<Figure size 640x480 with 1 Axes>"
            ],
            "image/png": "[encoded data removed]"
          },
          "metadata": {}
        }
      ]
    },
    {
      "cell_type": "code",
      "source": [
        "#  plot the Logistic Regression Model for the estimated w and b values\n",
        "\n",
        "P = 0.5 # the boundary seperation value (probability)\n",
        "\n",
        "# Generate sample points in the domain 30 to 100\n",
        "u = np.linspace(30, 100, 50)\n",
        "v = np.linspace(30, 100, 50)\n",
        "\n",
        "# making it into 2D mesh\n",
        "X, Y = np.meshgrid(u, v)\n",
        "logReg = np.zeros((len(u), len(v)))\n",
        "\n",
        "# Predict the result of the (u,v) pair data with the estimated w and b values\n",
        "for i in range(len(u)):\n",
        "    for j in range(len(v)):\n",
        "      zz = X[i,j]*w[0]+Y[i,j]*w[1]+b\n",
        "      logReg[i,j] = 1/(1+np.exp(-zz))\n",
        "\n",
        "\n",
        "plt.contour(u,v,logReg, levels = [P], colors=\"g\" )\n",
        "\n",
        "# to see the full function plot in the domain\n",
        "# plt.contourf(u,v,logReg)\n",
        "\n",
        "# Plot the real data\n",
        "sns.scatterplot(data=df, x='Exam Mark', y='test score', hue='Selection')\n",
        "\n",
        "plt.xlabel('Exam Mark')\n",
        "plt.ylabel('Test Score')\n",
        "plt.title('Logistic Regression Model')\n",
        "plt.legend(title='Selection', loc='upper left')\n",
        "plt.show()\n",
        "\n"
      ],
      "metadata": {
        "colab": {
          "base_uri": "https://localhost:8080/",
          "height": 472
        },
        "id": "lPFsEO_5vDdc",
        "outputId": "79f58332-f540-4b17-981e-5f7928239d04"
      },
      "execution_count": 10,
      "outputs": [
        {
          "output_type": "display_data",
          "data": {
            "text/plain": [
              "<Figure size 640x480 with 1 Axes>"
            ],
            "image/png": "[encoded data removed]"
          },
          "metadata": {}
        }
      ]
    },
    {
      "cell_type": "markdown",
      "source": [
        "### Answer the following\n",
        "\n",
        "\n",
        "* What does the P value signify in the provided code?\n",
        "> It is the boundary selection value.\n",
        "* How will altering the P value affect the outcome?\n",
        "> altering the decision threshold affects the trade-off between sensitivity and specificity, leading to changes in prediction errors and model interpretation\n",
        "* What range of values can P encompass?\n",
        "> Since it is probability the values are between 0 and 1.\n",
        "* Describe the importance of the P value in a project aimed at classifying tumors as malignant or benign.\n",
        "> The decision threshold affects the interpretation of the classification model's predictions."
      ],
      "metadata": {
        "id": "mZs85GzXoUUD"
      }
    },
    {
      "cell_type": "markdown",
      "source": [
        "### Imagine a scenario where a student scores 65 marks in both the Exam and Test. Use your model to predict whether the student will pass the interview or not."
      ],
      "metadata": {
        "id": "fxrRUraGrTAZ"
      }
    },
    {
      "cell_type": "code",
      "source": [
        "# Your code\n",
        "# Scores of the student\n",
        "exam_score = 65\n",
        "test_score = 65\n",
        "\n",
        "# Predicting the probability of passing the interview\n",
        "student_scores = np.array([[exam_score, test_score]])\n",
        "pass_probability = predict(w_opt, b_opt, student_scores)\n",
        "\n",
        "# Convert the probability to a class label\n",
        "pass_label = 'Yes' if pass_probability >= 0.5 else 'No'\n",
        "\n",
        "print(f\"The probability of passing the interview: {pass_probability[0]}\")\n",
        "print(f\"The student will {'pass' if pass_label == 'Yes' else 'not pass'} the interview.\")"
      ],
      "metadata": {
        "id": "UG18sSivsBY-",
        "colab": {
          "base_uri": "https://localhost:8080/"
        },
        "outputId": "a7a98379-1f20-45d1-a9c1-1b57a0b82569"
      },
      "execution_count": 11,
      "outputs": [
        {
          "output_type": "stream",
          "name": "stdout",
          "text": [
            "The probability of passing the interview: 0.6428350942729327\n",
            "The student will pass the interview.\n"
          ]
        }
      ]
    }
  ]
}